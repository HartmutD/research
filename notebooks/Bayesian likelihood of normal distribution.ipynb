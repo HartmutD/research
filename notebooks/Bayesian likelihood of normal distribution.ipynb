{
 "metadata": {
  "name": ""
 },
 "nbformat": 3,
 "nbformat_minor": 0,
 "worksheets": [
  {
   "cells": [
    {
     "cell_type": "markdown",
     "metadata": {},
     "source": [
      "If you're running an experiment on a population that is normally distributed with a known standard deviation and you observe a sample... what is the likelihood of that sample being the mean of the population you're observing?\n",
      "\n",
      "That's what I'm solving for today."
     ]
    },
    {
     "cell_type": "code",
     "collapsed": false,
     "input": [
      "import numpy, math\n",
      "\n",
      "foo = [round(numpy.random.normal(20, 3),2) for x in range(0,5)]"
     ],
     "language": "python",
     "metadata": {},
     "outputs": [],
     "prompt_number": 40
    },
    {
     "cell_type": "code",
     "collapsed": false,
     "input": [
      "foo"
     ],
     "language": "python",
     "metadata": {},
     "outputs": [
      {
       "metadata": {},
       "output_type": "pyout",
       "prompt_number": 41,
       "text": [
        "[14.62, 24.55, 18.23, 21.83, 19.25]"
       ]
      }
     ],
     "prompt_number": 41
    },
    {
     "cell_type": "markdown",
     "metadata": {},
     "source": [
      "# How to calculate the distribution"
     ]
    },
    {
     "cell_type": "code",
     "collapsed": false,
     "input": [
      "n = len(foo)\n",
      "sigma = 3\n",
      "mu = 20\n",
      "\n",
      "def likelihood_of_normal_parameters(data, mu, sigma):\n",
      "    return numpy.exp(-n/(2*math.pow(sigma, 2))*math.pow(numpy.mean(data) - mu,2))\n",
      "\n",
      "hypotheses = numpy.array([1]*10000)/(1.0*10000)\n",
      "\n",
      "hypotheses"
     ],
     "language": "python",
     "metadata": {},
     "outputs": [
      {
       "metadata": {},
       "output_type": "pyout",
       "prompt_number": 42,
       "text": [
        "array([ 0.0001,  0.0001,  0.0001, ...,  0.0001,  0.0001,  0.0001])"
       ]
      }
     ],
     "prompt_number": 42
    },
    {
     "cell_type": "code",
     "collapsed": false,
     "input": [
      "for i in range(0,10000):\n",
      "    hypothesis = i/(1.0*100)\n",
      "    hypotheses[i] = hypotheses[i]*likelihood_of_normal_parameters(foo, hypothesis, sigma)"
     ],
     "language": "python",
     "metadata": {},
     "outputs": [],
     "prompt_number": 43
    },
    {
     "cell_type": "code",
     "collapsed": false,
     "input": [
      "new_hypotheses = hypotheses/numpy.sum(hypotheses)"
     ],
     "language": "python",
     "metadata": {},
     "outputs": [],
     "prompt_number": 44
    },
    {
     "cell_type": "code",
     "collapsed": false,
     "input": [
      "import matplotlib.pyplot as plt\n",
      "\n",
      "plt.plot(new_hypotheses)"
     ],
     "language": "python",
     "metadata": {},
     "outputs": [
      {
       "metadata": {},
       "output_type": "pyout",
       "prompt_number": 45,
       "text": [
        "[<matplotlib.lines.Line2D at 0x10fe11fd0>]"
       ]
      },
      {
       "metadata": {},
       "output_type": "display_data",
       "png": "[encoded data removed]",
       "text": [
        "<matplotlib.figure.Figure at 0x10fcf6b90>"
       ]
      }
     ],
     "prompt_number": 45
    }
   ],
   "metadata": {}
  }
 ]
}