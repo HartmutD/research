{
 "cells": [
  {
   "cell_type": "code",
   "execution_count": 1,
   "metadata": {
    "collapsed": true
   },
   "outputs": [],
   "source": [
    "import pulp as p"
   ]
  },
  {
   "cell_type": "markdown",
   "metadata": {},
   "source": [
    "# Shopping with a Data Scientist"
   ]
  },
  {
   "cell_type": "code",
   "execution_count": 2,
   "metadata": {
    "collapsed": false
   },
   "outputs": [],
   "source": [
    "model_a = p.LpProblem(\"Albon Shopping Problem\", p.LpMinimize)"
   ]
  },
  {
   "cell_type": "markdown",
   "metadata": {},
   "source": [
    "We define four cable types: Lightning, Micro-USB, USB, and USB-C (encoded below as $L$, $U^m$, $U$, and $U^c$ respectively). Each is available in 1 foot, 3 feet, and 6 feet lengths (encoded below as subscripts of 1, 3, and 6 respectively)."
   ]
  },
  {
   "cell_type": "code",
   "execution_count": 3,
   "metadata": {
    "collapsed": true
   },
   "outputs": [],
   "source": [
    "lightning_1 = p.LpVariable('lightning_1', lowBound=0, cat='Integer')\n",
    "lightning_3 = p.LpVariable('lightning_3', lowBound=0, cat='Integer')\n",
    "lightning_6 = p.LpVariable('lightning_6', lowBound=0, cat='Integer')\n",
    "\n",
    "microusb_1 = p.LpVariable('microusb_1', lowBound=0, cat='Integer')\n",
    "microusb_3 = p.LpVariable('microusb_3', lowBound=0, cat='Integer')\n",
    "microusb_6 = p.LpVariable('microusb_6', lowBound=0, cat='Integer')\n",
    "\n",
    "usb_1 = p.LpVariable('usb_1', lowBound=0, cat='Integer')\n",
    "usb_3 = p.LpVariable('usb_3', lowBound=0, cat='Integer')\n",
    "usb_6 = p.LpVariable('usb_6', lowBound=0, cat='Integer')\n",
    "\n",
    "usbc_1 = p.LpVariable('usbc_1', lowBound=0, cat='Integer')\n",
    "usbc_3 = p.LpVariable('usbc_3', lowBound=0, cat='Integer')\n",
    "usbc_6 = p.LpVariable('usbc_6', lowBound=0, cat='Integer')"
   ]
  },
  {
   "cell_type": "markdown",
   "metadata": {},
   "source": [
    "Our objective function is expressed a bit tersely in math but is perhaps more readable in code. The cost of each cord we make related to length. 1 foot cords cost \\$10, 3 feet cords cost \\$15, and 6 feet cords cost \\$20. Ideally, we want to minimize our costs subject to the constraints.\n",
    "\n",
    "$$ F = 10 * (L_1 + U^{m}_1 + U_1 + U^{c}_1) + \n",
    "       15 * (L_3 + U^{m}_3 + U_3 + U^{c}_3) + \n",
    "       20 * (L_6 + U^{m}_6 + U_6 + U^{c}_6)$$"
   ]
  },
  {
   "cell_type": "code",
   "execution_count": 4,
   "metadata": {
    "collapsed": true
   },
   "outputs": [],
   "source": [
    "model_a +=   10 * (lightning_1 + microusb_1 + usb_1 + usbc_1) \\\n",
    "         + 15 * (lightning_3 + microusb_3 + usb_3 + usbc_3) \\\n",
    "         + 20 * (lightning_6 + microusb_6 + usb_6 + usbc_6), \"Cost\""
   ]
  },
  {
   "cell_type": "markdown",
   "metadata": {},
   "source": [
    "Next we need a way to identify which cables can be used with which devices. The below code codifies this. The mathematical expressions are left as an exercise for the reader."
   ]
  },
  {
   "cell_type": "code",
   "execution_count": 5,
   "metadata": {
    "collapsed": false
   },
   "outputs": [],
   "source": [
    "power_supply_connectors = usbc_6\n",
    "ipad_connectors = lightning_1 + lightning_3 + lightning_6\n",
    "iphone_connectors = ipad_connectors\n",
    "android_connectors = microusb_1 + microusb_3 + microusb_6\n",
    "camera_connectors = microusb_3 + microusb_6\n",
    "battery_usb_connectors = usb_3 + usb_6\n",
    "battery_usbc_connectors = usbc_3 + usbc_6\n",
    "battery_connectors = battery_usb_connectors + battery_usbc_connectors\n",
    "hd_connectors = usbc_3 + usbc_6"
   ]
  },
  {
   "cell_type": "markdown",
   "metadata": {},
   "source": [
    "Now that we've associated all of the concepts in our model, it's time to add some constraints! The below basically defines that every device (not every cable!) requires at least one cable. Notice that if we have a single lightning cable, that will satisfy both the iPhone and iPad constraints."
   ]
  },
  {
   "cell_type": "code",
   "execution_count": 6,
   "metadata": {
    "collapsed": true
   },
   "outputs": [],
   "source": [
    "model_a += power_supply_connectors >= 1\n",
    "model_a += ipad_connectors >= 1\n",
    "model_a += iphone_connectors >= 1\n",
    "model_a += android_connectors >= 1\n",
    "model_a += camera_connectors >= 1\n",
    "model_a += battery_connectors >= 1\n",
    "model_a += hd_connectors >= 1"
   ]
  },
  {
   "cell_type": "markdown",
   "metadata": {},
   "source": [
    "Lastly we solve the optimization problem."
   ]
  },
  {
   "cell_type": "code",
   "execution_count": 7,
   "metadata": {
    "collapsed": false
   },
   "outputs": [
    {
     "data": {
      "text/plain": [
       "'Optimal'"
      ]
     },
     "execution_count": 7,
     "metadata": {},
     "output_type": "execute_result"
    }
   ],
   "source": [
    "model_a.solve()\n",
    "p.LpStatus[model_a.status]"
   ]
  },
  {
   "cell_type": "code",
   "execution_count": 8,
   "metadata": {
    "collapsed": false
   },
   "outputs": [
    {
     "name": "stdout",
     "output_type": "stream",
     "text": [
      "lightning_1 = 1.0\n",
      "microusb_3 = 1.0\n",
      "usbc_6 = 1.0\n"
     ]
    }
   ],
   "source": [
    "variables = [\n",
    "    lightning_1,\n",
    "    lightning_3,\n",
    "    lightning_6,\n",
    "    microusb_1,\n",
    "    microusb_3,\n",
    "    microusb_6,\n",
    "    usb_1,\n",
    "    usb_3,\n",
    "    usb_6,\n",
    "    usbc_1,\n",
    "    usbc_3,\n",
    "    usbc_6\n",
    "]\n",
    "\n",
    "for variable in variables:\n",
    "    if variable.varValue > 0:\n",
    "        print(\"{0} = {1}\".format(variable.getName(), variable.varValue))"
   ]
  },
  {
   "cell_type": "markdown",
   "metadata": {},
   "source": [
    "And finally we can print out the cost of the solution that was found."
   ]
  },
  {
   "cell_type": "code",
   "execution_count": 9,
   "metadata": {
    "collapsed": false
   },
   "outputs": [
    {
     "name": "stdout",
     "output_type": "stream",
     "text": [
      "45.0\n"
     ]
    }
   ],
   "source": [
    "print(p.value(model_a.objective))"
   ]
  },
  {
   "cell_type": "markdown",
   "metadata": {},
   "source": [
    "So for $45 we can connect all of our devices to the laptop!"
   ]
  },
  {
   "cell_type": "markdown",
   "metadata": {},
   "source": [
    "# More Complex Model"
   ]
  },
  {
   "cell_type": "code",
   "execution_count": 33,
   "metadata": {
    "collapsed": true
   },
   "outputs": [],
   "source": [
    "model_b = p.LpProblem(\"Albon Shopping Problem (Use all USB-C ports)\", p.LpMinimize)"
   ]
  },
  {
   "cell_type": "code",
   "execution_count": 34,
   "metadata": {
    "collapsed": true
   },
   "outputs": [],
   "source": [
    "lightning_1 = p.LpVariable('lightning_1', lowBound=0, cat='Integer')\n",
    "lightning_3 = p.LpVariable('lightning_3', lowBound=0, cat='Integer')\n",
    "lightning_6 = p.LpVariable('lightning_6', lowBound=0, cat='Integer')\n",
    "\n",
    "microusb_1 = p.LpVariable('microusb_1', lowBound=0, cat='Integer')\n",
    "microusb_3 = p.LpVariable('microusb_3', lowBound=0, cat='Integer')\n",
    "microusb_6 = p.LpVariable('microusb_6', lowBound=0, cat='Integer')\n",
    "\n",
    "usb_1 = p.LpVariable('usb_1', lowBound=0, cat='Integer')\n",
    "usb_3 = p.LpVariable('usb_3', lowBound=0, cat='Integer')\n",
    "usb_6 = p.LpVariable('usb_6', lowBound=0, cat='Integer')\n",
    "\n",
    "usbc_1 = p.LpVariable('usbc_1', lowBound=0, cat='Integer')\n",
    "usbc_3 = p.LpVariable('usbc_3', lowBound=0, cat='Integer')\n",
    "usbc_6 = p.LpVariable('usbc_6', lowBound=0, cat='Integer')"
   ]
  },
  {
   "cell_type": "code",
   "execution_count": 35,
   "metadata": {
    "collapsed": true
   },
   "outputs": [],
   "source": [
    "model_b +=   10 * (lightning_1 + microusb_1 + usb_1 + usbc_1) \\\n",
    "         + 15 * (lightning_3 + microusb_3 + usb_3 + usbc_3)   \\\n",
    "         + 20 * (lightning_6 + microusb_6 + usb_6 + usbc_6),  \"Cost\""
   ]
  },
  {
   "cell_type": "code",
   "execution_count": 36,
   "metadata": {
    "collapsed": true
   },
   "outputs": [],
   "source": [
    "power_supply_connectors = usbc_6\n",
    "ipad_connectors = lightning_1 + lightning_3 + lightning_6\n",
    "iphone_connectors = ipad_connectors\n",
    "android_connectors = microusb_1 + microusb_3 + microusb_6\n",
    "camera_connectors = microusb_3 + microusb_6\n",
    "battery_usb_connectors = usb_3 + usb_6\n",
    "battery_usbc_connectors = usbc_3 + usbc_6\n",
    "battery_connectors = battery_usb_connectors + battery_usbc_connectors\n",
    "hd_connectors = usbc_3 + usbc_6"
   ]
  },
  {
   "cell_type": "markdown",
   "metadata": {},
   "source": [
    "Then our constraints again. The \"model_b +=\" portions are just how we associate the constraint with the model we're building. Our main change here is that we have constrained the problem such that we need to be able to connect our power supply and hard drive at the same time (two separate ports). See Constraint set 2 below. \n",
    "\n",
    "On top of that, we want to be able to use the other two ports on our laptop so we can maximize the four available ports (see Constraint set 3 below)."
   ]
  },
  {
   "cell_type": "code",
   "execution_count": 45,
   "metadata": {
    "collapsed": false
   },
   "outputs": [],
   "source": [
    "# Same constraints as before\n",
    "model_b += power_supply_connectors >= 1\n",
    "model_b += ipad_connectors >= 1\n",
    "model_b += iphone_connectors >= 1\n",
    "model_b += android_connectors >= 1\n",
    "model_b += camera_connectors >= 1\n",
    "model_b += battery_connectors >= 1\n",
    "model_b += hd_connectors >= 1\n",
    "\n",
    "# Constraint set 2\n",
    "# Plus hard drive and power supply must be able to be plugged\n",
    "# in simultaneously\n",
    "# Since hard drive cables are a superset of the power supply\n",
    "# cables we can formulate this constraint as \n",
    "# \"We should have at least one hard drive cable over and above\n",
    "# what we have for our power supply\"\n",
    "model_b += hd_connectors - power_supply_connectors >= 1\n",
    "\n",
    "# Constraint set 3\n",
    "# Plus must have four cables to plug in and fill all four ports\n",
    "model_b +=  (lightning_1 + lightning_3 + lightning_6 \\\n",
    "           + microusb_1  + microusb_3 + microusb_6 \\\n",
    "           + usb_1  + usb_3 + usb_6 \\\n",
    "           + usbc_1  + usbc_3 + usbc_6) == 4"
   ]
  },
  {
   "cell_type": "markdown",
   "metadata": {},
   "source": [
    "Solve the model..."
   ]
  },
  {
   "cell_type": "code",
   "execution_count": 46,
   "metadata": {
    "collapsed": false
   },
   "outputs": [
    {
     "data": {
      "text/plain": [
       "'Optimal'"
      ]
     },
     "execution_count": 46,
     "metadata": {},
     "output_type": "execute_result"
    }
   ],
   "source": [
    "model_b.solve()\n",
    "p.LpStatus[model_b.status]"
   ]
  },
  {
   "cell_type": "code",
   "execution_count": 47,
   "metadata": {
    "collapsed": false
   },
   "outputs": [
    {
     "name": "stdout",
     "output_type": "stream",
     "text": [
      "lightning_1 = 1.0\n",
      "microusb_3 = 1.0\n",
      "usbc_3 = 1.0\n",
      "usbc_6 = 1.0\n"
     ]
    }
   ],
   "source": [
    "variables = [\n",
    "    lightning_1,\n",
    "    lightning_3,\n",
    "    lightning_6,\n",
    "    microusb_1,\n",
    "    microusb_3,\n",
    "    microusb_6,\n",
    "    usb_1,\n",
    "    usb_3,\n",
    "    usb_6,\n",
    "    usbc_1,\n",
    "    usbc_3,\n",
    "    usbc_6\n",
    "]\n",
    "\n",
    "for variable in variables:\n",
    "    if variable.varValue > 0:\n",
    "        print(\"{0} = {1}\".format(variable.getName(), variable.varValue))"
   ]
  },
  {
   "cell_type": "markdown",
   "metadata": {},
   "source": [
    "And then print out the cost!"
   ]
  },
  {
   "cell_type": "code",
   "execution_count": 44,
   "metadata": {
    "collapsed": false
   },
   "outputs": [
    {
     "name": "stdout",
     "output_type": "stream",
     "text": [
      "60.0\n"
     ]
    }
   ],
   "source": [
    "print(p.value(model_b.objective))"
   ]
  },
  {
   "cell_type": "markdown",
   "metadata": {},
   "source": [
    "Our new constraints required us to increase the cost by $15."
   ]
  },
  {
   "cell_type": "code",
   "execution_count": null,
   "metadata": {
    "collapsed": true
   },
   "outputs": [],
   "source": []
  }
 ],
 "metadata": {
  "kernelspec": {
   "display_name": "Python 3",
   "language": "python",
   "name": "python3"
  },
  "language_info": {
   "codemirror_mode": {
    "name": "ipython",
    "version": 3
   },
   "file_extension": ".py",
   "mimetype": "text/x-python",
   "name": "python",
   "nbconvert_exporter": "python",
   "pygments_lexer": "ipython3",
   "version": "3.4.4"
  }
 },
 "nbformat": 4,
 "nbformat_minor": 2
}
